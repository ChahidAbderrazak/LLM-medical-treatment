{
 "cells": [
  {
   "cell_type": "code",
   "execution_count": 1,
   "metadata": {},
   "outputs": [
    {
     "name": "stdout",
     "output_type": "stream",
     "text": [
      "/app\n"
     ]
    }
   ],
   "source": [
    "%cd /app\n",
    "import sys\n",
    "\n",
    "sys.path.append(\"src\")"
   ]
  },
  {
   "cell_type": "code",
   "execution_count": 2,
   "metadata": {},
   "outputs": [],
   "source": [
    "# Import PySpark related modules\n",
    "import pyspark\n",
    "from IPython.core.interactiveshell import InteractiveShell\n",
    "from pyspark.sql import SparkSession\n",
    "import pyspark.sql.functions as f\n",
    "import pyspark.sql.types as T"
   ]
  },
  {
   "cell_type": "code",
   "execution_count": null,
   "metadata": {},
   "outputs": [],
   "source": [
    "# Initialize a spark session.\n",
    "MAX_MEMORY = \"4G\"\n",
    "conf = (\n",
    "    pyspark.SparkConf()\n",
    "    .setMaster(\"local[*]\")\n",
    "    .set(\"spark.executor.heartbeatInterval\", 10000)\n",
    "    .set(\"spark.network.timeout\", 10000)\n",
    "    .set(\"spark.core.connection.ack.wait.timeout\", \"3600\")\n",
    "    .set(\"spark.executor.memory\", MAX_MEMORY)\n",
    "    .set(\"spark.driver.memory\", MAX_MEMORY)\n",
    ")\n",
    "# initait ethe sperk session\n",
    "spark = (\n",
    "    SparkSession.builder.appName(\"ETL with Spark RDD\").config(conf=conf).getOrCreate()\n",
    ")"
   ]
  },
  {
   "cell_type": "markdown",
   "metadata": {},
   "source": [
    "# Spark Syntax"
   ]
  },
  {
   "cell_type": "markdown",
   "metadata": {
    "jp-MarkdownHeadingCollapsed": true
   },
   "source": [
    "### col functions"
   ]
  },
  {
   "cell_type": "code",
   "execution_count": 2,
   "metadata": {},
   "outputs": [
    {
     "ename": "NameError",
     "evalue": "name 'spark_df' is not defined",
     "output_type": "error",
     "traceback": [
      "\u001b[0;31m---------------------------------------------------------------------------\u001b[0m",
      "\u001b[0;31mNameError\u001b[0m                                 Traceback (most recent call last)",
      "Cell \u001b[0;32mIn[2], line 1\u001b[0m\n\u001b[0;32m----> 1\u001b[0m \u001b[43mspark_df\u001b[49m\u001b[38;5;241m.\u001b[39mwhere(f\u001b[38;5;241m.\u001b[39mcol(column)\u001b[38;5;241m.\u001b[39misin([\u001b[38;5;28;01mNone\u001b[39;00m,np\u001b[38;5;241m.\u001b[39mnan]))\u001b[38;5;241m.\u001b[39mcollect()\n\u001b[1;32m      2\u001b[0m \u001b[38;5;66;03m# spark_df.select(column).distinct().collect()\u001b[39;00m\n",
      "\u001b[0;31mNameError\u001b[0m: name 'spark_df' is not defined"
     ]
    }
   ],
   "source": [
    "spark_df.where(f.col(column).isin([None, np.nan])).collect()\n",
    "# spark_df.select(column).distinct().collect()"
   ]
  },
  {
   "cell_type": "code",
   "execution_count": null,
   "metadata": {},
   "outputs": [],
   "source": []
  },
  {
   "cell_type": "markdown",
   "metadata": {
    "jp-MarkdownHeadingCollapsed": true
   },
   "source": [
    "### Date format conversion"
   ]
  },
  {
   "cell_type": "markdown",
   "metadata": {},
   "source": [
    "convert the data to timestamp format `'1997-02-28 10:30:00'`using `regexp` from [https://pythex.org](https://pythex.org/) "
   ]
  },
  {
   "cell_type": "code",
   "execution_count": 3,
   "metadata": {},
   "outputs": [
    {
     "ename": "NameError",
     "evalue": "name 'spark' is not defined",
     "output_type": "error",
     "traceback": [
      "\u001b[0;31m---------------------------------------------------------------------------\u001b[0m",
      "\u001b[0;31mNameError\u001b[0m                                 Traceback (most recent call last)",
      "Cell \u001b[0;32mIn[3], line 1\u001b[0m\n\u001b[0;32m----> 1\u001b[0m df1 \u001b[38;5;241m=\u001b[39m \u001b[43mspark\u001b[49m\u001b[38;5;241m.\u001b[39mcreateDataFrame([(\u001b[38;5;124m'\u001b[39m\u001b[38;5;124mFri Apr 17 20:30:31 PDT 2009\u001b[39m\u001b[38;5;124m'\u001b[39m,)], [\u001b[38;5;124m'\u001b[39m\u001b[38;5;124mcol_name\u001b[39m\u001b[38;5;124m'\u001b[39m])\n\u001b[1;32m      2\u001b[0m regexp_query\u001b[38;5;241m=\u001b[39m\u001b[38;5;124mr\u001b[39m\u001b[38;5;124m'\u001b[39m\u001b[38;5;124m^([a-zA-Z]\u001b[39m\u001b[38;5;132;01m{3}\u001b[39;00m\u001b[38;5;124m) ([a-zA-Z]\u001b[39m\u001b[38;5;132;01m{3}\u001b[39;00m\u001b[38;5;124m) ([0-9]\u001b[39m\u001b[38;5;124m{\u001b[39m\u001b[38;5;124m1,2}) ([0-9]\u001b[39m\u001b[38;5;124m{\u001b[39m\u001b[38;5;124m1,2}:[0-9]\u001b[39m\u001b[38;5;124m{\u001b[39m\u001b[38;5;124m1,2}:[0-9]\u001b[39m\u001b[38;5;124m{\u001b[39m\u001b[38;5;124m1,2}) ([A-Z]\u001b[39m\u001b[38;5;132;01m{3}\u001b[39;00m\u001b[38;5;124m) ([0-9]\u001b[39m\u001b[38;5;132;01m{4}\u001b[39;00m\u001b[38;5;124m)\u001b[39m\u001b[38;5;124m'\u001b[39m\n\u001b[1;32m      3\u001b[0m df2\u001b[38;5;241m=\u001b[39mdf1\u001b[38;5;241m.\u001b[39mselect(f\u001b[38;5;241m.\u001b[39mconcat(f\u001b[38;5;241m.\u001b[39mregexp_extract(\u001b[38;5;124m'\u001b[39m\u001b[38;5;124mcol_name\u001b[39m\u001b[38;5;124m'\u001b[39m, regexp_query, \u001b[38;5;241m6\u001b[39m),f\u001b[38;5;241m.\u001b[39mlit(\u001b[38;5;124m\"\u001b[39m\u001b[38;5;124m-\u001b[39m\u001b[38;5;124m\"\u001b[39m),\n\u001b[1;32m      4\u001b[0m                    f\u001b[38;5;241m.\u001b[39mregexp_extract(\u001b[38;5;124m'\u001b[39m\u001b[38;5;124mcol_name\u001b[39m\u001b[38;5;124m'\u001b[39m, regexp_query, \u001b[38;5;241m2\u001b[39m),f\u001b[38;5;241m.\u001b[39mlit(\u001b[38;5;124m\"\u001b[39m\u001b[38;5;124m-\u001b[39m\u001b[38;5;124m\"\u001b[39m),\n\u001b[1;32m      5\u001b[0m                    f\u001b[38;5;241m.\u001b[39mregexp_extract(\u001b[38;5;124m'\u001b[39m\u001b[38;5;124mcol_name\u001b[39m\u001b[38;5;124m'\u001b[39m, regexp_query, \u001b[38;5;241m3\u001b[39m),f\u001b[38;5;241m.\u001b[39mlit(\u001b[38;5;124m\"\u001b[39m\u001b[38;5;124m \u001b[39m\u001b[38;5;124m\"\u001b[39m),\n\u001b[1;32m      6\u001b[0m                    f\u001b[38;5;241m.\u001b[39mregexp_extract(\u001b[38;5;124m'\u001b[39m\u001b[38;5;124mcol_name\u001b[39m\u001b[38;5;124m'\u001b[39m, regexp_query, \u001b[38;5;241m4\u001b[39m))\u001b[38;5;241m.\u001b[39malias(\u001b[38;5;124m'\u001b[39m\u001b[38;5;124mnew_date\u001b[39m\u001b[38;5;124m'\u001b[39m))\n",
      "\u001b[0;31mNameError\u001b[0m: name 'spark' is not defined"
     ]
    }
   ],
   "source": [
    "df1 = spark.createDataFrame([(\"Fri Apr 17 20:30:31 PDT 2009\",)], [\"col_name\"])\n",
    "regexp_query = r\"^([a-zA-Z]{3}) ([a-zA-Z]{3}) ([0-9]{1,2}) ([0-9]{1,2}:[0-9]{1,2}:[0-9]{1,2}) ([A-Z]{3}) ([0-9]{4})\"\n",
    "df2 = df1.select(\n",
    "    f.concat(\n",
    "        f.regexp_extract(\"col_name\", regexp_query, 6),\n",
    "        f.lit(\"-\"),\n",
    "        f.regexp_extract(\"col_name\", regexp_query, 2),\n",
    "        f.lit(\"-\"),\n",
    "        f.regexp_extract(\"col_name\", regexp_query, 3),\n",
    "        f.lit(\" \"),\n",
    "        f.regexp_extract(\"col_name\", regexp_query, 4),\n",
    "    ).alias(\"new_date\")\n",
    ")\n",
    "df2.show()"
   ]
  },
  {
   "cell_type": "markdown",
   "metadata": {
    "jp-MarkdownHeadingCollapsed": true
   },
   "source": [
    "### SQL queries"
   ]
  },
  {
   "cell_type": "code",
   "execution_count": 4,
   "metadata": {},
   "outputs": [
    {
     "ename": "ModuleNotFoundError",
     "evalue": "No module named 'pandasql'",
     "output_type": "error",
     "traceback": [
      "\u001b[0;31m---------------------------------------------------------------------------\u001b[0m",
      "\u001b[0;31mModuleNotFoundError\u001b[0m                       Traceback (most recent call last)",
      "Cell \u001b[0;32mIn[4], line 1\u001b[0m\n\u001b[0;32m----> 1\u001b[0m \u001b[38;5;28;01mfrom\u001b[39;00m \u001b[38;5;21;01mpandasql\u001b[39;00m \u001b[38;5;28;01mimport\u001b[39;00m sqldf\n\u001b[1;32m      3\u001b[0m arima_df \u001b[38;5;241m=\u001b[39m sqldf(\u001b[38;5;124mf\u001b[39m\u001b[38;5;124m\"\u001b[39m\u001b[38;5;124mSELECT * \u001b[39m\u001b[38;5;130;01m\\\u001b[39;00m\n\u001b[1;32m      4\u001b[0m \u001b[38;5;124m                 FROM df \u001b[39m\u001b[38;5;130;01m\\\u001b[39;00m\n\u001b[1;32m      5\u001b[0m \u001b[38;5;124m                 WHERE Retained >0   \u001b[39m\u001b[38;5;130;01m\\\u001b[39;00m\n\u001b[0;32m   (...)\u001b[0m\n\u001b[1;32m     10\u001b[0m \u001b[38;5;124m                 ORDER BY AdmitTerm \u001b[39m\u001b[38;5;130;01m\\\u001b[39;00m\n\u001b[1;32m     11\u001b[0m \u001b[38;5;124m                 LIMIT 10;\u001b[39m\u001b[38;5;124m\"\u001b[39m)\n",
      "\u001b[0;31mModuleNotFoundError\u001b[0m: No module named 'pandasql'"
     ]
    }
   ],
   "source": [
    "from pandasql import sqldf\n",
    "\n",
    "arima_df = sqldf(\n",
    "    f\"SELECT * \\\n",
    "                 FROM df \\\n",
    "                 WHERE Retained >0   \\\n",
    "                  AND  AdmitTerm IN {convert_list_quesry_format(AdmitTerm_list)} \\\n",
    "                  AND  School IN {convert_list_quesry_format(schools_list)} \\\n",
    "                  AND  Program IN {convert_list_quesry_format(programs_list)} \\\n",
    "                  AND  NationalStatus IN {convert_list_quesry_format(nationalStatus_list)} \\\n",
    "                 ORDER BY AdmitTerm \\\n",
    "                 LIMIT 10;\"\n",
    ")"
   ]
  },
  {
   "cell_type": "markdown",
   "metadata": {},
   "source": [
    "### RDD resilient distributed dataset "
   ]
  },
  {
   "cell_type": "code",
   "execution_count": 3,
   "metadata": {},
   "outputs": [
    {
     "name": "stderr",
     "output_type": "stream",
     "text": [
      "Setting default log level to \"WARN\".\n",
      "To adjust logging level use sc.setLogLevel(newLevel). For SparkR, use setLogLevel(newLevel).\n",
      "24/12/12 03:25:41 WARN NativeCodeLoader: Unable to load native-hadoop library for your platform... using builtin-java classes where applicable\n"
     ]
    }
   ],
   "source": [
    "appName = \"RDD tutorial\"\n",
    "master = \"local\"\n",
    "conf = pyspark.SparkConf().setAppName(appName).setMaster(master)\n",
    "sc = pyspark.SparkContext(conf=conf)"
   ]
  },
  {
   "cell_type": "code",
   "execution_count": 4,
   "metadata": {},
   "outputs": [
    {
     "name": "stderr",
     "output_type": "stream",
     "text": [
      "                                                                                "
     ]
    },
    {
     "data": {
      "text/plain": [
       "15"
      ]
     },
     "execution_count": 4,
     "metadata": {},
     "output_type": "execute_result"
    }
   ],
   "source": [
    "data = [1, 2, 3, 4, 5]\n",
    "distData = sc.parallelize(data)\n",
    "distData.reduce(lambda a, b: a + b)"
   ]
  },
  {
   "cell_type": "code",
   "execution_count": 12,
   "metadata": {},
   "outputs": [
    {
     "data": {
      "text/plain": [
       "[1, 1, 1, 1, 1]"
      ]
     },
     "execution_count": 12,
     "metadata": {},
     "output_type": "execute_result"
    }
   ],
   "source": [
    "distFile = sc.textFile(\"data/data.txt\")\n",
    "distFile.map(lambda s: len(s)).reduce(lambda a, b: a + 2 * b)"
   ]
  },
  {
   "cell_type": "code",
   "execution_count": 11,
   "metadata": {},
   "outputs": [
    {
     "data": {
      "text/plain": [
       "[40, 112, 51]"
      ]
     },
     "execution_count": 11,
     "metadata": {},
     "output_type": "execute_result"
    }
   ],
   "source": [
    "distFile = sc.textFile(\"data/data.zip\")\n",
    "distFile.map(lambda s: len(s)).show()"
   ]
  },
  {
   "cell_type": "code",
   "execution_count": null,
   "metadata": {},
   "outputs": [],
   "source": []
  }
 ],
 "metadata": {
  "kernelspec": {
   "display_name": "Python 3 (ipykernel)",
   "language": "python",
   "name": "python3"
  },
  "language_info": {
   "codemirror_mode": {
    "name": "ipython",
    "version": 3
   },
   "file_extension": ".py",
   "mimetype": "text/x-python",
   "name": "python",
   "nbconvert_exporter": "python",
   "pygments_lexer": "ipython3",
   "version": "3.8.19"
  }
 },
 "nbformat": 4,
 "nbformat_minor": 4
}
