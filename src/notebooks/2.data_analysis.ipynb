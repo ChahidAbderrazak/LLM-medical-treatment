{
 "cells": [
  {
   "cell_type": "code",
   "execution_count": 1,
   "id": "799d71e0-080a-49c9-8f67-591505606a8f",
   "metadata": {},
   "outputs": [],
   "source": [
    "INPUT_FILE = (\n",
    "    \"artifacts/data_ingestion/training.1600000.processed.noemoticon_cleaned.csv\"\n",
    ")\n",
    "OUTPUT_FILE = \"data/output.csv\""
   ]
  },
  {
   "cell_type": "code",
   "execution_count": 2,
   "id": "7b6ed35f-0c97-430b-a0d1-5fb49830fa9a",
   "metadata": {},
   "outputs": [
    {
     "name": "stdout",
     "output_type": "stream",
     "text": [
      "/app\n"
     ]
    }
   ],
   "source": [
    "%cd /app\n",
    "import sys\n",
    "\n",
    "sys.path.append(\"src\")"
   ]
  },
  {
   "cell_type": "markdown",
   "id": "65894af7-cd49-49be-a881-c7f726d7473e",
   "metadata": {},
   "source": [
    "## 0. Initialize a spark session"
   ]
  },
  {
   "cell_type": "code",
   "execution_count": 3,
   "id": "b5755ebe-27bb-43a3-b0af-9ad28eaab208",
   "metadata": {},
   "outputs": [
    {
     "name": "stderr",
     "output_type": "stream",
     "text": [
      "Setting default log level to \"WARN\".\n",
      "To adjust logging level use sc.setLogLevel(newLevel). For SparkR, use setLogLevel(newLevel).\n",
      "24/12/12 18:21:19 WARN NativeCodeLoader: Unable to load native-hadoop library for your platform... using builtin-java classes where applicable\n"
     ]
    }
   ],
   "source": [
    "# Import PySpark related modules\n",
    "import pyspark\n",
    "from IPython.core.interactiveshell import InteractiveShell\n",
    "from pyspark.sql import SparkSession\n",
    "import pyspark.sql.functions as f\n",
    "import pyspark.sql.types as T\n",
    "\n",
    "\n",
    "# Initialize a spark session.\n",
    "MAX_MEMORY = \"4G\"\n",
    "conf = (\n",
    "    pyspark.SparkConf()\n",
    "    .setMaster(\"local[*]\")\n",
    "    .set(\"spark.executor.heartbeatInterval\", 10000)\n",
    "    .set(\"spark.network.timeout\", 10000)\n",
    "    .set(\"spark.core.connection.ack.wait.timeout\", \"3600\")\n",
    "    .set(\"spark.executor.memory\", MAX_MEMORY)\n",
    "    .set(\"spark.driver.memory\", MAX_MEMORY)\n",
    ")\n",
    "# initait ethe sperk session\n",
    "spark = (\n",
    "    SparkSession.builder.appName(\"Data preprocessing Spark RDD\")\n",
    "    .config(conf=conf)\n",
    "    .getOrCreate()\n",
    ")"
   ]
  },
  {
   "cell_type": "code",
   "execution_count": 4,
   "id": "e72ad1dd-6607-461c-b553-10c22db11a0e",
   "metadata": {},
   "outputs": [
    {
     "name": "stderr",
     "output_type": "stream",
     "text": [
      "                                                                                "
     ]
    }
   ],
   "source": [
    "# Load the data\n",
    "from utils.spark_utils import spark_load_data\n",
    "\n",
    "# Load the main dataset into pyspark data frame\n",
    "df = spark.read.csv(INPUT_FILE, header=True, inferSchema=True)"
   ]
  },
  {
   "cell_type": "code",
   "execution_count": 5,
   "id": "7066210b-ad78-4579-b592-e8543a158360",
   "metadata": {},
   "outputs": [
    {
     "name": "stdout",
     "output_type": "stream",
     "text": [
      "root\n",
      " |-- target: integer (nullable = true)\n",
      " |-- ids: long (nullable = true)\n",
      " |-- date: timestamp (nullable = true)\n",
      " |-- flag: string (nullable = true)\n",
      " |-- user: string (nullable = true)\n",
      " |-- text: string (nullable = true)\n",
      "\n"
     ]
    },
    {
     "data": {
      "text/html": [
       "<div>\n",
       "<style scoped>\n",
       "    .dataframe tbody tr th:only-of-type {\n",
       "        vertical-align: middle;\n",
       "    }\n",
       "\n",
       "    .dataframe tbody tr th {\n",
       "        vertical-align: top;\n",
       "    }\n",
       "\n",
       "    .dataframe thead th {\n",
       "        text-align: right;\n",
       "    }\n",
       "</style>\n",
       "<table border=\"1\" class=\"dataframe\">\n",
       "  <thead>\n",
       "    <tr style=\"text-align: right;\">\n",
       "      <th></th>\n",
       "      <th>target</th>\n",
       "      <th>ids</th>\n",
       "      <th>date</th>\n",
       "      <th>flag</th>\n",
       "      <th>user</th>\n",
       "      <th>text</th>\n",
       "    </tr>\n",
       "  </thead>\n",
       "  <tbody>\n",
       "    <tr>\n",
       "      <th>0</th>\n",
       "      <td>0</td>\n",
       "      <td>1989926437</td>\n",
       "      <td>2009-06-01 10:17:39</td>\n",
       "      <td>NO_QUERY</td>\n",
       "      <td>builttobreak</td>\n",
       "      <td>sick feeling in my stomach like ive done somet...</td>\n",
       "    </tr>\n",
       "    <tr>\n",
       "      <th>1</th>\n",
       "      <td>4</td>\n",
       "      <td>1880838053</td>\n",
       "      <td>2009-05-22 09:41:03</td>\n",
       "      <td>NO_QUERY</td>\n",
       "      <td>davekerpen</td>\n",
       "      <td>Happy Friday! Off to Chitown for a wedding. An...</td>\n",
       "    </tr>\n",
       "    <tr>\n",
       "      <th>2</th>\n",
       "      <td>0</td>\n",
       "      <td>2244939344</td>\n",
       "      <td>2009-06-19 22:25:48</td>\n",
       "      <td>NO_QUERY</td>\n",
       "      <td>anjamd</td>\n",
       "      <td>The BIA is populated by idiots and mental defi...</td>\n",
       "    </tr>\n",
       "    <tr>\n",
       "      <th>3</th>\n",
       "      <td>4</td>\n",
       "      <td>1993994642</td>\n",
       "      <td>2009-06-01 18:14:52</td>\n",
       "      <td>NO_QUERY</td>\n",
       "      <td>Jess_Mileyy</td>\n",
       "      <td>@Primevalfans thanks</td>\n",
       "    </tr>\n",
       "    <tr>\n",
       "      <th>4</th>\n",
       "      <td>0</td>\n",
       "      <td>1996264441</td>\n",
       "      <td>2009-06-01 21:47:54</td>\n",
       "      <td>NO_QUERY</td>\n",
       "      <td>Marktavious</td>\n",
       "      <td>can't get haircut until 2morro...  ...</td>\n",
       "    </tr>\n",
       "  </tbody>\n",
       "</table>\n",
       "</div>"
      ],
      "text/plain": [
       "   target         ids                date      flag          user  \\\n",
       "0       0  1989926437 2009-06-01 10:17:39  NO_QUERY  builttobreak   \n",
       "1       4  1880838053 2009-05-22 09:41:03  NO_QUERY    davekerpen   \n",
       "2       0  2244939344 2009-06-19 22:25:48  NO_QUERY        anjamd   \n",
       "3       4  1993994642 2009-06-01 18:14:52  NO_QUERY   Jess_Mileyy   \n",
       "4       0  1996264441 2009-06-01 21:47:54  NO_QUERY   Marktavious   \n",
       "\n",
       "                                                text  \n",
       "0  sick feeling in my stomach like ive done somet...  \n",
       "1  Happy Friday! Off to Chitown for a wedding. An...  \n",
       "2  The BIA is populated by idiots and mental defi...  \n",
       "3                               @Primevalfans thanks  \n",
       "4             can't get haircut until 2morro...  ...  "
      ]
     },
     "execution_count": 5,
     "metadata": {},
     "output_type": "execute_result"
    }
   ],
   "source": [
    "# show data schema and samples\n",
    "df.printSchema()\n",
    "df.limit(5).toPandas()"
   ]
  },
  {
   "cell_type": "markdown",
   "id": "888913ca-58b5-4b62-a715-1d7c41bb16ec",
   "metadata": {},
   "source": [
    "## data preprocessing"
   ]
  },
  {
   "cell_type": "code",
   "execution_count": 1,
   "id": "d3c25860-9605-4f2f-8041-a434e6f3ec66",
   "metadata": {},
   "outputs": [],
   "source": [
    "# !pip3 install torch torchvision torchaudio"
   ]
  },
  {
   "cell_type": "code",
   "execution_count": 2,
   "id": "0f82ad3f-4e73-4f75-a8c1-0d6a9b2c5021",
   "metadata": {},
   "outputs": [
    {
     "name": "stderr",
     "output_type": "stream",
     "text": [
      "/usr/local/lib/python3.8/site-packages/tqdm/auto.py:21: TqdmWarning: IProgress not found. Please update jupyter and ipywidgets. See https://ipywidgets.readthedocs.io/en/stable/user_install.html\n",
      "  from .autonotebook import tqdm as notebook_tqdm\n"
     ]
    }
   ],
   "source": [
    "from transformers import AutoTokenizer\n",
    "\n",
    "tokenizer = AutoTokenizer.from_pretrained(\"distilbert-base-uncased\")\n",
    "tokens = tokenizer(\"This is a test sentence\", return_tensors=\"pt\")"
   ]
  },
  {
   "cell_type": "code",
   "execution_count": 5,
   "id": "e3884614-26f0-4b18-a703-29c282f232cb",
   "metadata": {},
   "outputs": [
    {
     "data": {
      "text/plain": [
       "{'input_ids': tensor([[ 101, 2023, 2003, 1037, 3231, 6251,  102]]), 'attention_mask': tensor([[1, 1, 1, 1, 1, 1, 1]])}"
      ]
     },
     "execution_count": 5,
     "metadata": {},
     "output_type": "execute_result"
    }
   ],
   "source": [
    "tokens"
   ]
  }
 ],
 "metadata": {
  "kernelspec": {
   "display_name": "Python 3 (ipykernel)",
   "language": "python",
   "name": "python3"
  },
  "language_info": {
   "codemirror_mode": {
    "name": "ipython",
    "version": 3
   },
   "file_extension": ".py",
   "mimetype": "text/x-python",
   "name": "python",
   "nbconvert_exporter": "python",
   "pygments_lexer": "ipython3",
   "version": "3.8.20"
  }
 },
 "nbformat": 4,
 "nbformat_minor": 5
}
